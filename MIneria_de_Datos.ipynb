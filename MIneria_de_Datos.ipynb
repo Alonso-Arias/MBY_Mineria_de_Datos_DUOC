{
  "nbformat": 4,
  "nbformat_minor": 0,
  "metadata": {
    "colab": {
      "name": "MIneria de Datos.ipynb",
      "provenance": [],
      "collapsed_sections": [],
      "authorship_tag": "ABX9TyMmMwsKNL7xwEHJuq5Ofx2y",
      "include_colab_link": true
    },
    "kernelspec": {
      "name": "python3",
      "display_name": "Python 3"
    }
  },
  "cells": [
    {
      "cell_type": "markdown",
      "metadata": {
        "id": "view-in-github",
        "colab_type": "text"
      },
      "source": [
        "<a href=\"https://colab.research.google.com/github/Alonso-Arias/MBY_Mineria_de_Datos_DUOC/blob/master/MIneria_de_Datos.ipynb\" target=\"_parent\"><img src=\"https://colab.research.google.com/assets/colab-badge.svg\" alt=\"Open In Colab\"/></a>"
      ]
    },
    {
      "cell_type": "markdown",
      "metadata": {
        "id": "qTd68xb4N5rJ",
        "colab_type": "text"
      },
      "source": [
        "#Preparando las instancias"
      ]
    },
    {
      "cell_type": "markdown",
      "metadata": {
        "id": "MU1-JeJ7utzn",
        "colab_type": "text"
      },
      "source": [
        "**Ingresando las librerias**"
      ]
    },
    {
      "cell_type": "code",
      "metadata": {
        "id": "5fTyELKItZXD",
        "colab_type": "code",
        "colab": {}
      },
      "source": [
        "import numpy as np\n",
        "import pandas as pd\n",
        "import seaborn as sb\n",
        "import matplotlib.pyplot as plt\n",
        "%matplotlib inline\n",
        "from mpl_toolkits.mplot3d import Axes3D\n",
        "from matplotlib import cm\n",
        "plt.rcParams['figure.figsize'] = (16, 9)\n",
        "plt.style.use('ggplot')\n",
        "from sklearn import linear_model\n",
        "from sklearn.metrics import mean_squared_error, r2_score"
      ],
      "execution_count": 0,
      "outputs": []
    },
    {
      "cell_type": "markdown",
      "metadata": {
        "id": "29_s_EFmLHRA",
        "colab_type": "text"
      },
      "source": [
        "**Se declara ambos arreglos agregando los Valores de la tabla de Celsius**\n",
        "\n"
      ]
    },
    {
      "cell_type": "code",
      "metadata": {
        "id": "MvX0vBaru3Ro",
        "colab_type": "code",
        "colab": {}
      },
      "source": [
        "Celsius=np.array([[15, 16, 17, 18, 19, 20, 21, 22, 23, 24, 25, 27, 28]])"
      ],
      "execution_count": 0,
      "outputs": []
    },
    {
      "cell_type": "code",
      "metadata": {
        "id": "w5qb5zuwC5bb",
        "colab_type": "code",
        "colab": {}
      },
      "source": [
        "Fahrenheit=np.array([[]],dtype=float)"
      ],
      "execution_count": 0,
      "outputs": []
    },
    {
      "cell_type": "markdown",
      "metadata": {
        "id": "xfAo2SKzLbFC",
        "colab_type": "text"
      },
      "source": [
        "**Con un ciclo se llena el arreglo de Fahrenheit con la ecuacion de conversion**"
      ]
    },
    {
      "cell_type": "code",
      "metadata": {
        "id": "bVd59bQfzFi7",
        "colab_type": "code",
        "colab": {}
      },
      "source": [
        "for x in Celsius:\n",
        "    f = (x * 9/5) + 32\n",
        "    Fahrenheit=np.append(Fahrenheit, [f])\n"
      ],
      "execution_count": 0,
      "outputs": []
    },
    {
      "cell_type": "markdown",
      "metadata": {
        "id": "HQ8mgppfLpQO",
        "colab_type": "text"
      },
      "source": [
        "**Se debe remodelar los arreglos porque solo son 1D y no 2D**\n"
      ]
    },
    {
      "cell_type": "code",
      "metadata": {
        "id": "fRUA4teI2t4M",
        "colab_type": "code",
        "colab": {}
      },
      "source": [
        "Fahrenheit=Fahrenheit.reshape((13,-13))"
      ],
      "execution_count": 0,
      "outputs": []
    },
    {
      "cell_type": "code",
      "metadata": {
        "id": "fErtHeCjHQ9L",
        "colab_type": "code",
        "outputId": "a0005b3e-cf32-406f-e7f9-5ce17f180ad7",
        "colab": {
          "base_uri": "https://localhost:8080/",
          "height": 34
        }
      },
      "source": [
        "Fahrenheit.shape"
      ],
      "execution_count": 0,
      "outputs": [
        {
          "output_type": "execute_result",
          "data": {
            "text/plain": [
              "(13, 1)"
            ]
          },
          "metadata": {
            "tags": []
          },
          "execution_count": 115
        }
      ]
    },
    {
      "cell_type": "code",
      "metadata": {
        "id": "v2mtmBlqINVF",
        "colab_type": "code",
        "colab": {}
      },
      "source": [
        "Celsius = Celsius.reshape((13,-13))"
      ],
      "execution_count": 0,
      "outputs": []
    },
    {
      "cell_type": "code",
      "metadata": {
        "id": "f8IQML3fHb14",
        "colab_type": "code",
        "outputId": "6954e884-cca2-4e9e-b95f-14c0bfe712d4",
        "colab": {
          "base_uri": "https://localhost:8080/",
          "height": 34
        }
      },
      "source": [
        "Celsius.shape"
      ],
      "execution_count": 0,
      "outputs": [
        {
          "output_type": "execute_result",
          "data": {
            "text/plain": [
              "(13, 1)"
            ]
          },
          "metadata": {
            "tags": []
          },
          "execution_count": 117
        }
      ]
    },
    {
      "cell_type": "markdown",
      "metadata": {
        "id": "N1Cn2jgqMBoS",
        "colab_type": "text"
      },
      "source": [
        "**Mostrando ambos arreglos**"
      ]
    },
    {
      "cell_type": "code",
      "metadata": {
        "id": "TUf0Vw4g4YwC",
        "colab_type": "code",
        "outputId": "c96de3fc-0661-4dee-f2ed-d6211de35383",
        "colab": {
          "base_uri": "https://localhost:8080/",
          "height": 238
        }
      },
      "source": [
        "for x in range(len(Celsius)): \n",
        "    print(Celsius[x])"
      ],
      "execution_count": 0,
      "outputs": [
        {
          "output_type": "stream",
          "text": [
            "[15]\n",
            "[16]\n",
            "[17]\n",
            "[18]\n",
            "[19]\n",
            "[20]\n",
            "[21]\n",
            "[22]\n",
            "[23]\n",
            "[24]\n",
            "[25]\n",
            "[27]\n",
            "[28]\n"
          ],
          "name": "stdout"
        }
      ]
    },
    {
      "cell_type": "code",
      "metadata": {
        "id": "j0vYUu0L4rN8",
        "colab_type": "code",
        "outputId": "8d1fe2e1-709f-4831-8194-20ca65ae8f9b",
        "colab": {
          "base_uri": "https://localhost:8080/",
          "height": 238
        }
      },
      "source": [
        "for x in range(len(Fahrenheit)): \n",
        "    print(float(Fahrenheit[x]))"
      ],
      "execution_count": 0,
      "outputs": [
        {
          "output_type": "stream",
          "text": [
            "59.0\n",
            "60.8\n",
            "62.6\n",
            "64.4\n",
            "66.2\n",
            "68.0\n",
            "69.8\n",
            "71.6\n",
            "73.4\n",
            "75.2\n",
            "77.0\n",
            "80.6\n",
            "82.4\n"
          ],
          "name": "stdout"
        }
      ]
    },
    {
      "cell_type": "markdown",
      "metadata": {
        "id": "J2sGSn0tMJ-u",
        "colab_type": "text"
      },
      "source": [
        "**Se le asignan a las variables los arrays**\n"
      ]
    },
    {
      "cell_type": "code",
      "metadata": {
        "id": "ka5n7KmG5bga",
        "colab_type": "code",
        "colab": {}
      },
      "source": [
        "X = Celsius\n",
        "y = Fahrenheit"
      ],
      "execution_count": 0,
      "outputs": []
    },
    {
      "cell_type": "markdown",
      "metadata": {
        "id": "vXXlpMRDMXOu",
        "colab_type": "text"
      },
      "source": [
        "**Se grafica con los arrays actuales**"
      ]
    },
    {
      "cell_type": "code",
      "metadata": {
        "id": "f2FYE9D94xSA",
        "colab_type": "code",
        "outputId": "7d587507-ab75-436c-b169-ea434e7d4955",
        "colab": {
          "base_uri": "https://localhost:8080/",
          "height": 554
        }
      },
      "source": [
        "plt.figure()\n",
        "plt.scatter(X, y)\n",
        "plt.xlabel('Celsius')\n",
        "plt.ylabel('Fahrenheit')\n",
        "plt.grid(True)\n",
        "plt.show()"
      ],
      "execution_count": 0,
      "outputs": [
        {
          "output_type": "display_data",
          "data": {
            "image/png": "[encoded data removed]",
            "text/plain": [
              "<Figure size 1152x648 with 1 Axes>"
            ]
          },
          "metadata": {
            "tags": []
          }
        }
      ]
    },
    {
      "cell_type": "markdown",
      "metadata": {
        "id": "sRg0A5wkMepT",
        "colab_type": "text"
      },
      "source": [
        "#Regresion Linear con scikit-learn"
      ]
    },
    {
      "cell_type": "markdown",
      "metadata": {
        "id": "eclBscwvM3RF",
        "colab_type": "text"
      },
      "source": [
        "**Se dividen los datos en datos de entramiento y de testing en la relacion 80 y 20**"
      ]
    },
    {
      "cell_type": "code",
      "metadata": {
        "id": "GFrulYDPD6ck",
        "colab_type": "code",
        "colab": {}
      },
      "source": [
        "from sklearn.model_selection import train_test_split\n",
        "\n",
        "X_train, X_test, y_train, y_test = train_test_split(X, y, test_size=0.2)"
      ],
      "execution_count": 0,
      "outputs": []
    },
    {
      "cell_type": "markdown",
      "metadata": {
        "id": "JtwHst0lNJYa",
        "colab_type": "text"
      },
      "source": [
        "**Se instancia el algoritmo a usar**"
      ]
    },
    {
      "cell_type": "code",
      "metadata": {
        "id": "DoogYWcoD6Tb",
        "colab_type": "code",
        "colab": {}
      },
      "source": [
        "lr = linear_model.LinearRegression()"
      ],
      "execution_count": 0,
      "outputs": []
    },
    {
      "cell_type": "markdown",
      "metadata": {
        "id": "I81mPPGgNQqe",
        "colab_type": "text"
      },
      "source": [
        "**Se entra el modelo con fit()**"
      ]
    },
    {
      "cell_type": "code",
      "metadata": {
        "id": "E0JwLf8fAh4s",
        "colab_type": "code",
        "outputId": "3c33dbb3-9cf3-4da8-bb04-31c2a0a92557",
        "colab": {
          "base_uri": "https://localhost:8080/",
          "height": 34
        }
      },
      "source": [
        "lr.fit(X_train, y_train)"
      ],
      "execution_count": 0,
      "outputs": [
        {
          "output_type": "execute_result",
          "data": {
            "text/plain": [
              "LinearRegression(copy_X=True, fit_intercept=True, n_jobs=None, normalize=False)"
            ]
          },
          "metadata": {
            "tags": []
          },
          "execution_count": 124
        }
      ]
    },
    {
      "cell_type": "markdown",
      "metadata": {
        "id": "lsgUkiZsNtfb",
        "colab_type": "text"
      },
      "source": [
        "**Se realiza la predicción**"
      ]
    },
    {
      "cell_type": "code",
      "metadata": {
        "id": "UbDFAZqoI81O",
        "colab_type": "code",
        "colab": {}
      },
      "source": [
        "Y_pred = lr.predict(X_test)"
      ],
      "execution_count": 0,
      "outputs": []
    },
    {
      "cell_type": "markdown",
      "metadata": {
        "id": "Tzr9JYSIOFcA",
        "colab_type": "text"
      },
      "source": [
        "**Graficando la solución**"
      ]
    },
    {
      "cell_type": "code",
      "metadata": {
        "id": "4PkT61O0JJAY",
        "colab_type": "code",
        "outputId": "f83c8b6d-5891-4bc7-8aae-ae4e26ab62a2",
        "colab": {
          "base_uri": "https://localhost:8080/",
          "height": 571
        }
      },
      "source": [
        "plt.scatter(X_test, y_test, color='blue', linewidth=10)\n",
        "plt.plot(X_test, Y_pred, color='red', linewidth=2)\n",
        "plt.title('Regresion Lineal Simple')\n",
        "plt.xlabel('Celsius')\n",
        "plt.ylabel('Fahrenheit')\n",
        "plt.grid(True)\n",
        "plt.show()"
      ],
      "execution_count": 0,
      "outputs": [
        {
          "output_type": "display_data",
          "data": {
            "image/png": "[encoded data removed]",
            "text/plain": [
              "<Figure size 1152x648 with 1 Axes>"
            ]
          },
          "metadata": {
            "tags": []
          }
        }
      ]
    },
    {
      "cell_type": "markdown",
      "metadata": {
        "id": "QMkic1TMONHN",
        "colab_type": "text"
      },
      "source": [
        "**Se halla la ecuacion del modelo**"
      ]
    },
    {
      "cell_type": "code",
      "metadata": {
        "id": "T5rrGPgvKH87",
        "colab_type": "code",
        "outputId": "5ea41fac-78cc-4c9e-beab-40615bd25746",
        "colab": {
          "base_uri": "https://localhost:8080/",
          "height": 51
        }
      },
      "source": [
        "print('La ecuacion del model es igual a: ')\n",
        "print('y = ', lr.coef_, 'x ', lr.intercept_)"
      ],
      "execution_count": 0,
      "outputs": [
        {
          "output_type": "stream",
          "text": [
            "La ecuacion del model es igual a: \n",
            "y =  [[1.8]] x  [32.]\n"
          ],
          "name": "stdout"
        }
      ]
    },
    {
      "cell_type": "markdown",
      "metadata": {
        "id": "baXywu_QOU9w",
        "colab_type": "text"
      },
      "source": [
        "**Evaluando el Modelo**"
      ]
    },
    {
      "cell_type": "code",
      "metadata": {
        "id": "0Mp7_zWBKqw1",
        "colab_type": "code",
        "outputId": "f02a4a3d-1c60-40ad-df84-7f6ff9a1b1bb",
        "colab": {
          "base_uri": "https://localhost:8080/",
          "height": 51
        }
      },
      "source": [
        "print('Precision del modelo: ')\n",
        "print(lr.score(X_train, y_train))"
      ],
      "execution_count": 0,
      "outputs": [
        {
          "output_type": "stream",
          "text": [
            "Precision del modelo: \n",
            "1.0\n"
          ],
          "name": "stdout"
        }
      ]
    },
    {
      "cell_type": "markdown",
      "metadata": {
        "id": "7uC_FOtWQ18L",
        "colab_type": "text"
      },
      "source": [
        "#Predicción en la regresión lineal de Celsius a Fahrenheit\n"
      ]
    },
    {
      "cell_type": "code",
      "metadata": {
        "id": "yizaGmmGQK_u",
        "colab_type": "code",
        "outputId": "46562b04-825a-4ec0-b92c-1b18a3d8a66c",
        "colab": {
          "base_uri": "https://localhost:8080/",
          "height": 34
        }
      },
      "source": [
        "y_Celsius = lr.predict([[16]])\n",
        "print('Son ', float(y_Celsius), ' Fahrenheit')"
      ],
      "execution_count": 0,
      "outputs": [
        {
          "output_type": "stream",
          "text": [
            "Son  60.79999999999999  Fahrenheit\n"
          ],
          "name": "stdout"
        }
      ]
    }
  ]
}